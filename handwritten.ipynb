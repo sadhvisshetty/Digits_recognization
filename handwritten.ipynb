{
  "nbformat": 4,
  "nbformat_minor": 0,
  "metadata": {
    "colab": {
      "provenance": [],
      "authorship_tag": "ABX9TyOHgl/OvBTOtDvYUY/QjdHt",
      "include_colab_link": true
    },
    "kernelspec": {
      "name": "python3",
      "display_name": "Python 3"
    },
    "language_info": {
      "name": "python"
    }
  },
  "cells": [
    {
      "cell_type": "markdown",
      "metadata": {
        "id": "view-in-github",
        "colab_type": "text"
      },
      "source": [
        "<a href=\"https://colab.research.google.com/github/sadhvisshetty/Digits_recognization/blob/main/handwritten.ipynb\" target=\"_parent\"><img src=\"https://colab.research.google.com/assets/colab-badge.svg\" alt=\"Open In Colab\"/></a>"
      ]
    },
    {
      "cell_type": "markdown",
      "source": [
        "HAND WRITTEN DIGIT PREDICTION"
      ],
      "metadata": {
        "id": "pCjJ6yYc0o3c"
      }
    },
    {
      "cell_type": "markdown",
      "source": [
        "OBJECTIVE:\n",
        "The objective of the \"Handwritten Digit Prediction\" project is to develop a machine learning model that accurately predicts and classifies handwritten digits (0-9) from grayscale images. It automates digit recognition for applications like document digitization and postal code processing. The project involves image preprocessing, neural network modeling, and performance evaluation using metrics like accuracy and confusion matrix. By leveraging machine learning techniques, it aims to achieve high reliability in predictions. It also provides practical insights into working with image datasets and implementing classification systems. Overall, the project combines theory and application to solve a real-world problem effectively.\n",
        "\n",
        "\n",
        "\n",
        "\n",
        "\n",
        "\n"
      ],
      "metadata": {
        "id": "HSItQD3k1MHS"
      }
    },
    {
      "cell_type": "markdown",
      "source": [
        "DATA SOURCE:\n",
        "The data source for the \"Handwritten Digit Prediction\" project is the MNIST dataset. It contains 70,000 grayscale images of handwritten digits (0-9), where 60,000 are used for training, and 10,000 are for testing. Each image is 28x28 pixels, and the dataset includes labels for the digits. The MNIST dataset is freely available and can be easily loaded using machine learning libraries like TensorFlow or PyTorch. It is widely used for digit recognition projects because it is well-prepared and easy to work with."
      ],
      "metadata": {
        "id": "PlUuupQ-1k4d"
      }
    },
    {
      "cell_type": "code",
      "source": [
        "#Library\n",
        "import numpy as np\n",
        "import matplotlib.pyplot as plt\n",
        "from sklearn.model_selection import train_test_split\n",
        "from sklearn.metrics import classification_report, confusion_matrix\n",
        "from tensorflow.keras.datasets import mnist\n",
        "from tensorflow.keras.models import Sequential\n",
        "from tensorflow.keras.layers import Dense, Flatten\n",
        "from tensorflow.keras.utils import to_categorical"
      ],
      "metadata": {
        "id": "jOjpN2x91u4s"
      },
      "execution_count": null,
      "outputs": []
    },
    {
      "cell_type": "code",
      "source": [
        "#Import data\n",
        "(x_train, y_train), (x_test, y_test) = mnist.load_data()"
      ],
      "metadata": {
        "colab": {
          "base_uri": "https://localhost:8080/"
        },
        "id": "DAJGvF6Y1zcN",
        "outputId": "de882f17-f3b3-4431-86bd-c3171a342801"
      },
      "execution_count": null,
      "outputs": [
        {
          "output_type": "stream",
          "name": "stdout",
          "text": [
            "Downloading data from https://storage.googleapis.com/tensorflow/tf-keras-datasets/mnist.npz\n",
            "\u001b[1m11490434/11490434\u001b[0m \u001b[32m━━━━━━━━━━━━━━━━━━━━\u001b[0m\u001b[37m\u001b[0m \u001b[1m1s\u001b[0m 0us/step\n"
          ]
        }
      ]
    },
    {
      "cell_type": "code",
      "source": [
        "#Data Preprocessing\n",
        "y_train = to_categorical(y_train, 10)\n",
        "y_test = to_categorical(y_test, 10)\n"
      ],
      "metadata": {
        "id": "1GG_iGHI18tF"
      },
      "execution_count": null,
      "outputs": []
    },
    {
      "cell_type": "code",
      "source": [
        "#Build the Model\n",
        "model = Sequential([\n",
        "    Flatten(input_shape=(28, 28)),          # Flatten the input images (28x28) into a 1D array\n",
        "    Dense(128, activation='relu'),         # Hidden layer with 128 neurons and ReLU activation\n",
        "    Dense(64, activation='relu'),          # Hidden layer with 64 neurons and ReLU activation\n",
        "    Dense(10, activation='softmax')        # Output layer with 10 neurons (one for each digit) and softmax activation\n",
        "])"
      ],
      "metadata": {
        "colab": {
          "base_uri": "https://localhost:8080/"
        },
        "id": "hZd6yQ4r2HE0",
        "outputId": "bdb5c4d3-c8c3-48c6-8877-18b3c0e1c66c"
      },
      "execution_count": null,
      "outputs": [
        {
          "output_type": "stream",
          "name": "stderr",
          "text": [
            "/usr/local/lib/python3.10/dist-packages/keras/src/layers/reshaping/flatten.py:37: UserWarning: Do not pass an `input_shape`/`input_dim` argument to a layer. When using Sequential models, prefer using an `Input(shape)` object as the first layer in the model instead.\n",
            "  super().__init__(**kwargs)\n"
          ]
        }
      ]
    },
    {
      "cell_type": "code",
      "source": [
        "#Compile the Model\n",
        "model.compile(optimizer='adam',\n",
        "              loss='categorical_crossentropy',\n",
        "              metrics=['accuracy'])\n"
      ],
      "metadata": {
        "id": "DqCDLvta2TxI"
      },
      "execution_count": null,
      "outputs": []
    },
    {
      "cell_type": "code",
      "source": [
        "#Train the model\n",
        "history = model.fit(x_train, y_train, epochs=10, batch_size=32, validation_split=0.2)"
      ],
      "metadata": {
        "colab": {
          "base_uri": "https://localhost:8080/"
        },
        "id": "0oAzA7-W2Yum",
        "outputId": "63967fa7-d34a-40f4-fcbc-7cc399ee7d9c"
      },
      "execution_count": null,
      "outputs": [
        {
          "output_type": "stream",
          "name": "stdout",
          "text": [
            "Epoch 1/10\n",
            "\u001b[1m1500/1500\u001b[0m \u001b[32m━━━━━━━━━━━━━━━━━━━━\u001b[0m\u001b[37m\u001b[0m \u001b[1m8s\u001b[0m 4ms/step - accuracy: 0.8603 - loss: 0.4772 - val_accuracy: 0.9567 - val_loss: 0.1487\n",
            "Epoch 2/10\n",
            "\u001b[1m1500/1500\u001b[0m \u001b[32m━━━━━━━━━━━━━━━━━━━━\u001b[0m\u001b[37m\u001b[0m \u001b[1m11s\u001b[0m 5ms/step - accuracy: 0.9641 - loss: 0.1220 - val_accuracy: 0.9647 - val_loss: 0.1194\n",
            "Epoch 3/10\n",
            "\u001b[1m1500/1500\u001b[0m \u001b[32m━━━━━━━━━━━━━━━━━━━━\u001b[0m\u001b[37m\u001b[0m \u001b[1m9s\u001b[0m 4ms/step - accuracy: 0.9754 - loss: 0.0812 - val_accuracy: 0.9618 - val_loss: 0.1289\n",
            "Epoch 4/10\n",
            "\u001b[1m1500/1500\u001b[0m \u001b[32m━━━━━━━━━━━━━━━━━━━━\u001b[0m\u001b[37m\u001b[0m \u001b[1m6s\u001b[0m 4ms/step - accuracy: 0.9816 - loss: 0.0587 - val_accuracy: 0.9706 - val_loss: 0.1007\n",
            "Epoch 5/10\n",
            "\u001b[1m1500/1500\u001b[0m \u001b[32m━━━━━━━━━━━━━━━━━━━━\u001b[0m\u001b[37m\u001b[0m \u001b[1m11s\u001b[0m 5ms/step - accuracy: 0.9853 - loss: 0.0446 - val_accuracy: 0.9733 - val_loss: 0.0950\n",
            "Epoch 6/10\n",
            "\u001b[1m1500/1500\u001b[0m \u001b[32m━━━━━━━━━━━━━━━━━━━━\u001b[0m\u001b[37m\u001b[0m \u001b[1m8s\u001b[0m 4ms/step - accuracy: 0.9890 - loss: 0.0336 - val_accuracy: 0.9724 - val_loss: 0.0999\n",
            "Epoch 7/10\n",
            "\u001b[1m1500/1500\u001b[0m \u001b[32m━━━━━━━━━━━━━━━━━━━━\u001b[0m\u001b[37m\u001b[0m \u001b[1m7s\u001b[0m 5ms/step - accuracy: 0.9917 - loss: 0.0269 - val_accuracy: 0.9715 - val_loss: 0.1150\n",
            "Epoch 8/10\n",
            "\u001b[1m1500/1500\u001b[0m \u001b[32m━━━━━━━━━━━━━━━━━━━━\u001b[0m\u001b[37m\u001b[0m \u001b[1m11s\u001b[0m 5ms/step - accuracy: 0.9923 - loss: 0.0227 - val_accuracy: 0.9718 - val_loss: 0.1129\n",
            "Epoch 9/10\n",
            "\u001b[1m1500/1500\u001b[0m \u001b[32m━━━━━━━━━━━━━━━━━━━━\u001b[0m\u001b[37m\u001b[0m \u001b[1m8s\u001b[0m 3ms/step - accuracy: 0.9943 - loss: 0.0185 - val_accuracy: 0.9715 - val_loss: 0.1115\n",
            "Epoch 10/10\n",
            "\u001b[1m1500/1500\u001b[0m \u001b[32m━━━━━━━━━━━━━━━━━━━━\u001b[0m\u001b[37m\u001b[0m \u001b[1m7s\u001b[0m 5ms/step - accuracy: 0.9939 - loss: 0.0176 - val_accuracy: 0.9743 - val_loss: 0.1175\n"
          ]
        }
      ]
    },
    {
      "cell_type": "code",
      "source": [
        "#Evaluate the Model\n",
        "test_loss, test_accuracy = model.evaluate(x_test, y_test)\n",
        "print(f\"Test Accuracy: {test_accuracy * 100:.2f}%\")\n"
      ],
      "metadata": {
        "colab": {
          "base_uri": "https://localhost:8080/"
        },
        "id": "CZjpCW9O2ePE",
        "outputId": "02eb8d6a-a570-475f-872d-c71d0accc2db"
      },
      "execution_count": null,
      "outputs": [
        {
          "output_type": "stream",
          "name": "stdout",
          "text": [
            "\u001b[1m313/313\u001b[0m \u001b[32m━━━━━━━━━━━━━━━━━━━━\u001b[0m\u001b[37m\u001b[0m \u001b[1m1s\u001b[0m 1ms/step - accuracy: 0.9742 - loss: 0.1207\n",
            "Test Accuracy: 97.63%\n"
          ]
        }
      ]
    },
    {
      "cell_type": "code",
      "source": [
        "#Classification Analysis\n",
        "# Predict on the test data\n",
        "y_pred = model.predict(x_test)\n",
        "y_pred_classes = np.argmax(y_pred, axis=1)  # Convert predictions to label indices\n",
        "y_true = np.argmax(y_test, axis=1)\n"
      ],
      "metadata": {
        "colab": {
          "base_uri": "https://localhost:8080/"
        },
        "id": "MnbtBrZU2hcc",
        "outputId": "781b9a1a-21e0-4275-e928-5c43d2995207"
      },
      "execution_count": null,
      "outputs": [
        {
          "output_type": "stream",
          "name": "stdout",
          "text": [
            "\u001b[1m313/313\u001b[0m \u001b[32m━━━━━━━━━━━━━━━━━━━━\u001b[0m\u001b[37m\u001b[0m \u001b[1m1s\u001b[0m 2ms/step\n"
          ]
        }
      ]
    },
    {
      "cell_type": "code",
      "source": [
        "# Confusion Matrix\n",
        "print(\"Confusion Matrix:\")\n",
        "print(confusion_matrix(y_true, y_pred_classes))"
      ],
      "metadata": {
        "colab": {
          "base_uri": "https://localhost:8080/"
        },
        "id": "JAHTfXn62lMM",
        "outputId": "55d03d16-3cbf-42a4-8afb-fb389f0daf10"
      },
      "execution_count": null,
      "outputs": [
        {
          "output_type": "stream",
          "name": "stdout",
          "text": [
            "Confusion Matrix:\n",
            "[[ 973    0    0    1    0    1    2    0    2    1]\n",
            " [   0 1126    4    0    0    0    4    0    1    0]\n",
            " [   3    2 1013    3    0    0    1    6    4    0]\n",
            " [   0    0    1  998    0    4    0    2    0    5]\n",
            " [   3    2   14    1  928    2    8    7    3   14]\n",
            " [   3    0    0   10    0  868    6    0    3    2]\n",
            " [   2    1    2    1    1    5  945    0    1    0]\n",
            " [   2    6   10    4    0    0    0  991    3   12]\n",
            " [   2    0    7   11    1    3    2    4  940    4]\n",
            " [   1    4    2    5    5    8    0    1    2  981]]\n"
          ]
        }
      ]
    },
    {
      "cell_type": "code",
      "source": [
        "# Classification Report\n",
        "print(\"\\nClassification Report:\")\n",
        "print(classification_report(y_true, y_pred_classes))"
      ],
      "metadata": {
        "colab": {
          "base_uri": "https://localhost:8080/"
        },
        "id": "SrHsTP4N2oqW",
        "outputId": "bb795771-699f-482a-f8dd-22754c87c8da"
      },
      "execution_count": null,
      "outputs": [
        {
          "output_type": "stream",
          "name": "stdout",
          "text": [
            "\n",
            "Classification Report:\n",
            "              precision    recall  f1-score   support\n",
            "\n",
            "           0       0.98      0.99      0.99       980\n",
            "           1       0.99      0.99      0.99      1135\n",
            "           2       0.96      0.98      0.97      1032\n",
            "           3       0.97      0.99      0.98      1010\n",
            "           4       0.99      0.95      0.97       982\n",
            "           5       0.97      0.97      0.97       892\n",
            "           6       0.98      0.99      0.98       958\n",
            "           7       0.98      0.96      0.97      1028\n",
            "           8       0.98      0.97      0.97       974\n",
            "           9       0.96      0.97      0.97      1009\n",
            "\n",
            "    accuracy                           0.98     10000\n",
            "   macro avg       0.98      0.98      0.98     10000\n",
            "weighted avg       0.98      0.98      0.98     10000\n",
            "\n"
          ]
        }
      ]
    },
    {
      "cell_type": "code",
      "source": [
        "# Visualize Some Predictions\n",
        "plt.figure(figsize=(10, 10))\n",
        "for i in range(16):\n",
        "    plt.subplot(4, 4, i + 1)\n",
        "    plt.imshow(x_test[i], cmap='gray')\n",
        "    plt.title(f\"True: {y_true[i]}, Pred: {y_pred_classes[i]}\")\n",
        "    plt.axis('off')\n",
        "plt.show()"
      ],
      "metadata": {
        "colab": {
          "base_uri": "https://localhost:8080/",
          "height": 829
        },
        "id": "-2C9_JZ-2rSm",
        "outputId": "f3ad1ee1-8305-408a-b4a5-d3c06a027fd4"
      },
      "execution_count": null,
      "outputs": [
        {
          "output_type": "display_data",
          "data": {
            "text/plain": [
              "<Figure size 1000x1000 with 16 Axes>"
            ],
            "image/png": "[encoded data removed]"
          },
          "metadata": {}
        }
      ]
    },
    {
      "cell_type": "markdown",
      "source": [
        "EXPLANATION:\n",
        "The \"Handwritten Digit Prediction\" project aims to build a machine learning model that can accurately classify handwritten digits (0-9) from grayscale images using the MNIST dataset. The dataset consists of 70,000 images, each 28x28 pixels, with 60,000 for training and 10,000 for testing. The images are normalized for consistent scaling and paired with labels representing the digits. A neural network model is trained using techniques like image flattening, hidden layers with activation functions, and softmax for output classification. The project includes preprocessing the data, training the model, and evaluating its performance using metrics like accuracy and confusion matrices. It automates digit recognition, which has applications in digitizing documents, postal code processing, and form analysis. The project demonstrates practical applications of machine learning in image classification. By visualizing predictions, it also helps identify errors for improvement. Ultimately, the project bridges theoretical knowledge and real-world problem-solving with neural networks."
      ],
      "metadata": {
        "id": "H8s54C8223fu"
      }
    }
  ]
}